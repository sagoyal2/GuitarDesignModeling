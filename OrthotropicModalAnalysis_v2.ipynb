{
 "cells": [
  {
   "cell_type": "code",
   "execution_count": 17,
   "id": "96ba88a1-527b-453c-80ad-15f207fed70b",
   "metadata": {},
   "outputs": [],
   "source": [
    "import os\n",
    "import meshio\n",
    "\n",
    "import ufl\n",
    "import dolfinx\n",
    "from mpi4py import MPI\n",
    "from petsc4py import PETSc # https://www.mcs.anl.gov/petsc/petsc4py-current/docs/apiref/index.html\n",
    "from slepc4py import SLEPc # https://slepc.upv.es/slepc4py-current/docs/apiref/index.html\n",
    "\n",
    "import time\n",
    "import numpy as np\n",
    "import matplotlib.pyplot as plt\n"
   ]
  },
  {
   "cell_type": "markdown",
   "id": "00a3dba8-bf75-4c79-b0ec-2a0682c5e609",
   "metadata": {},
   "source": [
    "## Load Mesh"
   ]
  },
  {
   "cell_type": "code",
   "execution_count": 18,
   "id": "da48cbe8-d8c8-4276-90f8-5c15513fcdc4",
   "metadata": {},
   "outputs": [],
   "source": [
    "MeshGeometryFolder = os.path.join(\"MeshGeometry\")"
   ]
  },
  {
   "cell_type": "code",
   "execution_count": 19,
   "id": "0940013a-0777-49d7-a488-3d2dc594e33b",
   "metadata": {},
   "outputs": [],
   "source": [
    "OutputModalShapesFolder = os.path.join(\"OutputModalShapes\")"
   ]
  },
  {
   "cell_type": "code",
   "execution_count": 24,
   "id": "cc57b069-6a5a-4043-bb66-c02c202399ea",
   "metadata": {},
   "outputs": [
    {
     "ename": "IndexError",
     "evalue": "index -1 is out of bounds for axis 0 with size 0",
     "output_type": "error",
     "traceback": [
      "\u001b[0;31m---------------------------------------------------------------------------\u001b[0m",
      "\u001b[0;31mIndexError\u001b[0m                                Traceback (most recent call last)",
      "Input \u001b[0;32mIn [24]\u001b[0m, in \u001b[0;36m<cell line: 6>\u001b[0;34m()\u001b[0m\n\u001b[1;32m      1\u001b[0m \u001b[38;5;66;03m# top_tetra_mesh = meshio.read(os.path.join(MeshGeometryFolder, \"top_tetra_mesh.xdmf\"))\u001b[39;00m\n\u001b[1;32m      2\u001b[0m \u001b[38;5;66;03m# side_mesh = meshio.read(os.path.join(MeshGeometryFolder, \"side_mesh.xml\"))\u001b[39;00m\n\u001b[1;32m      3\u001b[0m \u001b[38;5;66;03m# back_mesh = meshio.read(os.path.join(MeshGeometryFolder, \"back_mesh.xml\"))\u001b[39;00m\n\u001b[1;32m      5\u001b[0m \u001b[38;5;28;01mfrom\u001b[39;00m \u001b[38;5;21;01mgmsh_helpers\u001b[39;00m \u001b[38;5;28;01mimport\u001b[39;00m read_from_msh\n\u001b[0;32m----> 6\u001b[0m mesh, cell_tags, facet_tags \u001b[38;5;241m=\u001b[39m \u001b[43mread_from_msh\u001b[49m\u001b[43m(\u001b[49m\u001b[38;5;124;43m\"\u001b[39;49m\u001b[38;5;124;43mtestMesh.msh\u001b[39;49m\u001b[38;5;124;43m\"\u001b[39;49m\u001b[43m,\u001b[49m\u001b[43m \u001b[49m\u001b[43mcell_data\u001b[49m\u001b[38;5;241;43m=\u001b[39;49m\u001b[38;5;28;43;01mTrue\u001b[39;49;00m\u001b[43m,\u001b[49m\u001b[43m \u001b[49m\u001b[43mfacet_data\u001b[49m\u001b[38;5;241;43m=\u001b[39;49m\u001b[38;5;28;43;01mTrue\u001b[39;49;00m\u001b[43m,\u001b[49m\u001b[43m \u001b[49m\u001b[43mgdim\u001b[49m\u001b[38;5;241;43m=\u001b[39;49m\u001b[38;5;241;43m3\u001b[39;49m\u001b[43m)\u001b[49m\n",
      "File \u001b[0;32m~/gmsh_helpers.py:41\u001b[0m, in \u001b[0;36mread_from_msh\u001b[0;34m(filename, cell_data, facet_data, gdim)\u001b[0m\n\u001b[1;32m     39\u001b[0m     gmsh\u001b[38;5;241m.\u001b[39mmodel\u001b[38;5;241m.\u001b[39madd(\u001b[38;5;124m\"\u001b[39m\u001b[38;5;124mMesh from file\u001b[39m\u001b[38;5;124m\"\u001b[39m)\n\u001b[1;32m     40\u001b[0m     gmsh\u001b[38;5;241m.\u001b[39mmerge(filename)\n\u001b[0;32m---> 41\u001b[0m output \u001b[38;5;241m=\u001b[39m \u001b[43mgmsh_model_to_mesh\u001b[49m\u001b[43m(\u001b[49m\u001b[43mgmsh\u001b[49m\u001b[38;5;241;43m.\u001b[39;49m\u001b[43mmodel\u001b[49m\u001b[43m,\u001b[49m\u001b[43m \u001b[49m\u001b[43mcell_data\u001b[49m\u001b[38;5;241;43m=\u001b[39;49m\u001b[43mcell_data\u001b[49m\u001b[43m,\u001b[49m\n\u001b[1;32m     42\u001b[0m \u001b[43m                            \u001b[49m\u001b[43mfacet_data\u001b[49m\u001b[38;5;241;43m=\u001b[39;49m\u001b[43mfacet_data\u001b[49m\u001b[43m,\u001b[49m\u001b[43m \u001b[49m\u001b[43mgdim\u001b[49m\u001b[38;5;241;43m=\u001b[39;49m\u001b[43mgdim\u001b[49m\u001b[43m)\u001b[49m\n\u001b[1;32m     43\u001b[0m \u001b[38;5;28;01mif\u001b[39;00m MPI\u001b[38;5;241m.\u001b[39mCOMM_WORLD\u001b[38;5;241m.\u001b[39mrank \u001b[38;5;241m==\u001b[39m \u001b[38;5;241m0\u001b[39m:\n\u001b[1;32m     44\u001b[0m     \u001b[38;5;28;01mif\u001b[39;00m current_model \u001b[38;5;129;01mis\u001b[39;00m \u001b[38;5;28;01mNone\u001b[39;00m:\n",
      "File \u001b[0;32m~/gmsh_helpers.py:87\u001b[0m, in \u001b[0;36mgmsh_model_to_mesh\u001b[0;34m(model, cell_data, facet_data, gdim)\u001b[0m\n\u001b[1;32m     84\u001b[0m perm_sort \u001b[38;5;241m=\u001b[39m numpy\u001b[38;5;241m.\u001b[39margsort(cell_dimensions)\n\u001b[1;32m     86\u001b[0m \u001b[38;5;66;03m# Broadcast cell type data and geometric dimension\u001b[39;00m\n\u001b[0;32m---> 87\u001b[0m cell_id \u001b[38;5;241m=\u001b[39m cell_information[\u001b[43mperm_sort\u001b[49m\u001b[43m[\u001b[49m\u001b[38;5;241;43m-\u001b[39;49m\u001b[38;5;241;43m1\u001b[39;49m\u001b[43m]\u001b[49m][\u001b[38;5;124m\"\u001b[39m\u001b[38;5;124mid\u001b[39m\u001b[38;5;124m\"\u001b[39m]\n\u001b[1;32m     88\u001b[0m tdim \u001b[38;5;241m=\u001b[39m cell_information[perm_sort[\u001b[38;5;241m-\u001b[39m\u001b[38;5;241m1\u001b[39m]][\u001b[38;5;124m\"\u001b[39m\u001b[38;5;124mdim\u001b[39m\u001b[38;5;124m\"\u001b[39m]\n\u001b[1;32m     89\u001b[0m num_nodes \u001b[38;5;241m=\u001b[39m cell_information[perm_sort[\u001b[38;5;241m-\u001b[39m\u001b[38;5;241m1\u001b[39m]][\u001b[38;5;124m\"\u001b[39m\u001b[38;5;124mnum_nodes\u001b[39m\u001b[38;5;124m\"\u001b[39m]\n",
      "\u001b[0;31mIndexError\u001b[0m: index -1 is out of bounds for axis 0 with size 0"
     ]
    }
   ],
   "source": [
    "# top_tetra_mesh = meshio.read(os.path.join(MeshGeometryFolder, \"top_tetra_mesh.xdmf\"))\n",
    "# side_mesh = meshio.read(os.path.join(MeshGeometryFolder, \"side_mesh.xml\"))\n",
    "# back_mesh = meshio.read(os.path.join(MeshGeometryFolder, \"back_mesh.xml\"))\n",
    "\n",
    "from gmsh_helpers import read_from_msh\n",
    "mesh, cell_tags, facet_tags = read_from_msh(\"testMesh.msh\", cell_data=True, facet_data=True, gdim=3)"
   ]
  },
  {
   "cell_type": "code",
   "execution_count": 23,
   "id": "d31d7673-3bf8-43bb-9616-32874fd82fad",
   "metadata": {},
   "outputs": [],
   "source": [
    "# top_tetra_mesh = dolfinx.mesh.Mesh()\n",
    "# with XDMFFile(os.path.join(MeshGeometryFolder, \"top_tetra_mesh.xdmf\")) as infile:\n",
    "#     infile.read(top_tetra_mesh)"
   ]
  },
  {
   "cell_type": "markdown",
   "id": "f93dd8f2-836e-41c6-afc7-40a1f28afc7f",
   "metadata": {
    "tags": []
   },
   "source": [
    "## Perform Modal Analysis\n",
    "\n",
    "References:\n",
    "https://fenics-solid-tutorial.readthedocs.io/en/latest/EigenvalueProblem/EigenvalueProblem.html,\n",
    "https://fenicsproject.discourse.group/t/assemble-matrix-in-dolfinx/7547"
   ]
  },
  {
   "cell_type": "code",
   "execution_count": 10,
   "id": "087aca52-fe4d-4758-b935-1984eaa57933",
   "metadata": {},
   "outputs": [],
   "source": [
    "def epsilon(u):\n",
    "    # Strain\n",
    "    return 0.5*(ufl.nabla_grad(u) + ufl.nabla_grad(u).T)\n",
    "\n",
    "def strain2voigt(e):\n",
    "    return ufl.as_vector([e[0,0],e[1,1],e[2,2],e[1,2],e[0,2],e[0,1]])\n",
    "\n",
    "def voigt2stress(s):\n",
    "    return ufl.as_tensor([[s[0], s[5], s[4]],\n",
    "                         [s[5], s[1], s[3]],\n",
    "                         [s[4], s[3], s[2]]])\n",
    "def sigma(u, C):\n",
    "    # Stress\n",
    "    return voigt2stress(ufl.dot(C,strain2voigt(epsilon(u))))"
   ]
  },
  {
   "cell_type": "code",
   "execution_count": 13,
   "id": "83b923db-78ca-400f-b6e4-e260781f9096",
   "metadata": {},
   "outputs": [],
   "source": [
    "def modalAnalysisOrthotropic(params):\n",
    "\n",
    "    # Material Parameters\n",
    "    rho = params['rho']\n",
    "    E_x, E_y, E_z  = params['E_x'], params['E_y'], params['E_z']\n",
    "    nu_xy, nu_xz, nu_yx, nu_yz, nu_zx, nu_zy = params['nu_xy'], params['nu_xz'], params['nu_yx'], params['nu_yz'], params['nu_zx'], params['nu_zy'], \n",
    "    G_xy, G_yz, G_zx = params['G_xy'], params['G_yz'], params['G_zx']\n",
    "    \n",
    "    elementOrder = params['elementOrder']\n",
    "    N_eig = params['N_eig']\n",
    "    \n",
    "    \n",
    "    # Make orthotropic stiffness matrix\n",
    "    delta = (1- nu_xy*nu_yx - nu_yz*nu_zy - nu_zx*nu_xz - 2*nu_xy*nu_yz*nu_zx)/(E_x * E_y * E_z)\n",
    "    \n",
    "    C = np.zeros((6,6))\n",
    "    C[0,0] = (1-nu_yz*nu_zy)/(E_y*E_z*delta)\n",
    "    C[0,1] = (nu_yx+nu_zx*nu_yz)/(E_y*E_z*delta)\n",
    "    C[0,2] = (nu_zx+nu_yx*nu_zy)/(E_y*E_z*delta)\n",
    "    C[1,0] = (nu_xy+nu_xz*nu_zy)/(E_z*E_x*delta)\n",
    "    C[1,1] = (1-nu_zx*nu_xz)/(E_z*E_x*delta)\n",
    "    C[1,2] = (nu_zy+nu_zx*nu_xy)/(E_z*E_x*delta)\n",
    "    C[2,0] = (nu_xz+nu_xy*nu_yz)/(E_x*E_y*delta)\n",
    "    C[2,1] = (nu_yz+nu_xz*nu_yx)/(E_x*E_y*delta)\n",
    "    C[2,2] = (1-nu_xy*nu_yx)/(E_x*E_y*delta)\n",
    "    C[3,3] = 2*G_yz\n",
    "    C[4,4] = 2*G_zx\n",
    "    C[5,5] = 2*G_xy\n",
    "    \n",
    "    C = ufl.as_matrix(C)    \n",
    "    \n",
    "    # Define Weak Formulation\n",
    "    time_start = time.process_time()\n",
    "\n",
    "    V = dolfinx.fem.VectorFunctionSpace(top_tetra_mesh, \"CG\", elementOrder)\n",
    "    u_tr = dolfinx.TrialFunction(V)\n",
    "    u_test = dolfinx.TestFunction(V)\n",
    "\n",
    "    a_form = ufl.inner(sigma(u_tr, C), epsilon(u_test))*ufl.dx\n",
    "    m_form = rho*ufl.inner(u_tr, u_test)*ufl.dx\n",
    "    \n",
    "    A = dolfinx.fem.petsc.assemble_matrix(a_form)\n",
    "    A.assemble()\n",
    "    M = dolfinx.fem.petsc.assemble_matrix(m_form)\n",
    "    M.assemble()\n",
    "    \n",
    "\n",
    "    # Use Eigensolver \n",
    "    # (https://slepc.upv.es/documentation/)\n",
    "    shift = SLEPc.ST().create(MPI.COMM_WORLD)\n",
    "    shift.setType('sinvert')  # spectral transform\n",
    "    shift.setShift(100.0)  # spectral shift\n",
    "    \n",
    "    eigensolver = SLEPc.EPS().create(MPI.COMM_WORLD)\n",
    "    eigensolver.setOperators(A, M)\n",
    "    eigensolver.setProblemType(2) # generalized Hermitian (GHEP)\n",
    "    eigensolver.setDimensions(N_eig)\n",
    "    \n",
    "    eigensolver.solve()\n",
    "    \n",
    "    time_elapsed = (time.process_time() - time_start)\n",
    "    print(\"Time for modal analysis: {} \".format(time_elapsed))\n",
    "    \n",
    "    # XDMF Example: https://fenicsproject.discourse.group/t/error-in-paraview-visualization-of-xdmf-file-with-multiple-solution-variables/6873\n",
    "    result_xdmf = dolfinx.io.XDMFFile(MPI.COMM_WORLD, os.path.join(OutputModalShapesFolder, \"MA.xdmf\"), \"w\")\n",
    "    # result_xdmf.write_mesh(mesh)\n",
    "    \n",
    "    real_ev = PETSc.Vec().create(MPI.COMM_WORLD)\n",
    "    comm_ev = PETSc.Vec().create(MPI.COMM_WORLD)\n",
    "    \n",
    "    # Get Eigenmodes\n",
    "    for i in range(0, N_eig):\n",
    "        # Get i-th eigenvalue and eigenvector\n",
    "        eig_val = eigensolver.get_eigenpair(i, real_ev, comm_ev)\n",
    "    \n",
    "        #  Calculation of eigenfrequency from real part of eigenvalue\n",
    "        freq_3D = np.sqrt(eig_val.real)/2/np.pi\n",
    "        print(\"Eigenfrequency: {0:8.5f} [Hz]\".format(freq_3D))\n",
    "        \n",
    "        \n",
    "        eigenmode = dolfinx.fem.Function(V, name=\"Eigenvector \" + str(i))\n",
    "        eigenmode.vector()[:] = real_ev\n",
    "        \n",
    "        result_xdmf.write_function(eigenmode, i, top_mesh)\n",
    "    \n",
    "    xdmf.close()\n",
    "    \n",
    "# https://docs.fenicsproject.org/dolfinx/main/python/generated/dolfinx.io.html?highlight=xdmffile#dolfinx.io.XDMFFile\n",
    "\n",
    "\n"
   ]
  },
  {
   "cell_type": "code",
   "execution_count": 14,
   "id": "a3b71a74-5a70-4c21-ad14-4b6f5344c105",
   "metadata": {},
   "outputs": [],
   "source": [
    "EnglemanSpruce = {}\n",
    "EnglemanSpruce['rho'] = 435.1101985\n",
    "EnglemanSpruce['E_x'] = 8.9E9\n",
    "EnglemanSpruce['E_y'] = 0.128*EnglemanSpruce['E_x']*3.5\n",
    "EnglemanSpruce['E_z'] = 0.059*EnglemanSpruce['E_x']\n",
    "EnglemanSpruce['nu_xy'] = 0.422\n",
    "EnglemanSpruce['nu_xz'] = 0.462\n",
    "EnglemanSpruce['nu_yx'] = 0.083\n",
    "EnglemanSpruce['nu_yz'] = 0.53\n",
    "EnglemanSpruce['nu_zx'] = 0.058\n",
    "EnglemanSpruce['nu_zy'] = 0.255\n",
    "EnglemanSpruce['G_yz'] = 0.010*EnglemanSpruce['E_x']\n",
    "EnglemanSpruce['G_zx'] = 0.120*EnglemanSpruce['E_x']\n",
    "EnglemanSpruce['G_xy'] = 0.124*EnglemanSpruce['E_x']*1.5\n",
    "\n",
    "EnglemanSpruce['elementOrder'] = 2\n",
    "EnglemanSpruce['N_eig'] = 24\n"
   ]
  },
  {
   "cell_type": "code",
   "execution_count": 15,
   "id": "234363a9-75df-4d2f-94c5-546f98eb3d90",
   "metadata": {},
   "outputs": [
    {
     "ename": "AttributeError",
     "evalue": "'Mesh' object has no attribute 'ufl_cell'",
     "output_type": "error",
     "traceback": [
      "\u001b[0;31m---------------------------------------------------------------------------\u001b[0m",
      "\u001b[0;31mAttributeError\u001b[0m                            Traceback (most recent call last)",
      "Input \u001b[0;32mIn [15]\u001b[0m, in \u001b[0;36m<cell line: 1>\u001b[0;34m()\u001b[0m\n\u001b[0;32m----> 1\u001b[0m \u001b[43mmodalAnalysisOrthotropic\u001b[49m\u001b[43m(\u001b[49m\u001b[43mEnglemanSpruce\u001b[49m\u001b[43m)\u001b[49m\n",
      "Input \u001b[0;32mIn [13]\u001b[0m, in \u001b[0;36mmodalAnalysisOrthotropic\u001b[0;34m(params)\u001b[0m\n\u001b[1;32m     32\u001b[0m \u001b[38;5;66;03m# Define Weak Formulation\u001b[39;00m\n\u001b[1;32m     33\u001b[0m time_start \u001b[38;5;241m=\u001b[39m time\u001b[38;5;241m.\u001b[39mprocess_time()\n\u001b[0;32m---> 35\u001b[0m V \u001b[38;5;241m=\u001b[39m \u001b[43mdolfinx\u001b[49m\u001b[38;5;241;43m.\u001b[39;49m\u001b[43mfem\u001b[49m\u001b[38;5;241;43m.\u001b[39;49m\u001b[43mVectorFunctionSpace\u001b[49m\u001b[43m(\u001b[49m\u001b[43mtop_tetra_mesh\u001b[49m\u001b[43m,\u001b[49m\u001b[43m \u001b[49m\u001b[38;5;124;43m\"\u001b[39;49m\u001b[38;5;124;43mCG\u001b[39;49m\u001b[38;5;124;43m\"\u001b[39;49m\u001b[43m,\u001b[49m\u001b[43m \u001b[49m\u001b[43melementOrder\u001b[49m\u001b[43m)\u001b[49m\n\u001b[1;32m     36\u001b[0m u_tr \u001b[38;5;241m=\u001b[39m dolfinx\u001b[38;5;241m.\u001b[39mTrialFunction(V)\n\u001b[1;32m     37\u001b[0m u_test \u001b[38;5;241m=\u001b[39m dolfinx\u001b[38;5;241m.\u001b[39mTestFunction(V)\n",
      "File \u001b[0;32m/usr/local/dolfinx-real/lib/python3.8/dist-packages/dolfinx/fem/function.py:573\u001b[0m, in \u001b[0;36mVectorFunctionSpace\u001b[0;34m(mesh, element, dim, restriction)\u001b[0m\n\u001b[1;32m    570\u001b[0m \u001b[38;5;124;03m\"\"\"Create vector finite element (composition of scalar elements) function space.\"\"\"\u001b[39;00m\n\u001b[1;32m    572\u001b[0m e \u001b[38;5;241m=\u001b[39m ElementMetaData(\u001b[38;5;241m*\u001b[39melement)\n\u001b[0;32m--> 573\u001b[0m ufl_element \u001b[38;5;241m=\u001b[39m ufl\u001b[38;5;241m.\u001b[39mVectorElement(e\u001b[38;5;241m.\u001b[39mfamily, \u001b[43mmesh\u001b[49m\u001b[38;5;241;43m.\u001b[39;49m\u001b[43mufl_cell\u001b[49m(), e\u001b[38;5;241m.\u001b[39mdegree, form_degree\u001b[38;5;241m=\u001b[39me\u001b[38;5;241m.\u001b[39mform_degree, dim\u001b[38;5;241m=\u001b[39mdim)\n\u001b[1;32m    574\u001b[0m \u001b[38;5;28;01mreturn\u001b[39;00m FunctionSpace(mesh, ufl_element)\n",
      "\u001b[0;31mAttributeError\u001b[0m: 'Mesh' object has no attribute 'ufl_cell'"
     ]
    }
   ],
   "source": [
    "modalAnalysisOrthotropic(EnglemanSpruce)"
   ]
  },
  {
   "cell_type": "code",
   "execution_count": null,
   "id": "5b4da474-5f89-4faa-9a5b-bec0a4857b5d",
   "metadata": {},
   "outputs": [],
   "source": []
  }
 ],
 "metadata": {
  "kernelspec": {
   "display_name": "Python 3 (ipykernel)",
   "language": "python",
   "name": "python3"
  },
  "language_info": {
   "codemirror_mode": {
    "name": "ipython",
    "version": 3
   },
   "file_extension": ".py",
   "mimetype": "text/x-python",
   "name": "python",
   "nbconvert_exporter": "python",
   "pygments_lexer": "ipython3",
   "version": "3.9.7"
  }
 },
 "nbformat": 4,
 "nbformat_minor": 5
}
