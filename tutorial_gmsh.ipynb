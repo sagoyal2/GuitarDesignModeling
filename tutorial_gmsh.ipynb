{
 "cells": [
  {
   "cell_type": "markdown",
   "metadata": {},
   "source": [
    "# Using the GMSH Python API to generate complex meshes\n",
    "In this tutorial, we will use the gmsh API to generate complex meshes. We will in this tutorial learn how to make the 3D mesh used in the [DFG 3D laminar benchmark](http://www.featflow.de/en/benchmarks/cfdbenchmarking/flow/dfg_flow3d.html). The [first part](first) of this tutorial can be completed with the `dokken92/pygmsh` docker images, as described in the [pygmsh tutorial](converted_files/tutorial_pygmsh.md).\n",
    "\n",
    "For the [second](second) and [third](third) part of the tutorial, `dolfinx` is required. You can obtain a jupyter-lab image with `dolfinx/lab` and a normal docker image with `dolfinx/dolfinx`.\n",
    "\n",
    "This tutorial can be downloaded as a [Python-file](../converted_files/tutorial_gmsh.py) or as a [Jupyter notebook](../notebooks/tutorial_gmsh.ipynb)."
   ]
  },
  {
   "cell_type": "markdown",
   "metadata": {},
   "source": [
    "## <a name=\"first\"></a> 1. How to create a 3D mesh with physical tags with the GMSH python API.\n",
    "We start by import the gmsh module, and initializing the Python API. **NOTE:** This has to be done in order to run any function in the GMSH API."
   ]
  },
  {
   "cell_type": "code",
   "execution_count": 1,
   "metadata": {},
   "outputs": [],
   "source": [
    "import warnings\n",
    "warnings.filterwarnings(\"ignore\")\n",
    "import gmsh\n",
    "gmsh.initialize()"
   ]
  },
  {
   "cell_type": "markdown",
   "metadata": {},
   "source": [
    "The next step is to create the rectangular channel of the benchmark. In GMSH, there are two kernels for geometry computations; the `built_in` kernel ( `gmsh.model.geo`), and the [OpenCascade](https://www.opencascade.com/) kernel (`gmsh.model.opencascade`). In this tutorial, we will use the the `occ` kernel, as it is better suited. Other demos of the usage of the gmsh python API can be found in their [GitLab repository](https://gitlab.onelab.info/gmsh/gmsh/-/tree/master/tutorial/python)."
   ]
  },
  {
   "cell_type": "code",
   "execution_count": 2,
   "metadata": {},
   "outputs": [],
   "source": [
    "gmsh.model.add(\"DFG 3D\")\n",
    "L, B, H, r = 2.5, 0.41, 0.41, 0.05\n",
    "channel = gmsh.model.occ.addBox(0, 0, 0, L, B, H)"
   ]
  },
  {
   "cell_type": "markdown",
   "metadata": {},
   "source": [
    "The next step is to create the cylinder, which is done in the following way"
   ]
  },
  {
   "cell_type": "code",
   "execution_count": 3,
   "metadata": {},
   "outputs": [],
   "source": [
    "cylinder = gmsh.model.occ.addCylinder(0.5, 0,0.2,0, B, 0, r)"
   ]
  },
  {
   "cell_type": "markdown",
   "metadata": {},
   "source": [
    "where the first three arguments describes the (x,y,z) coordinate of the center of the first circular face. The next three arguments describes the axis of height of the cylinder, in this case, it is (0,0.41,0). The final parameter is the radius of the cylinder.\n",
    "We have now created two geometrical objects, that each can be meshed with GMSH. However, we are only interested in the fluid volume in the channel, which whould be the channel excluding the sphere. We use the GMSH command `BooleanDifference` for this"
   ]
  },
  {
   "cell_type": "code",
   "execution_count": 4,
   "metadata": {},
   "outputs": [],
   "source": [
    "fluid = gmsh.model.occ.cut([(3, channel)], [(3, cylinder)])"
   ]
  },
  {
   "cell_type": "markdown",
   "metadata": {},
   "source": [
    "where the first argument `[(3, channel)]`is a list of tuples, where the first argument is the geometrical dimension of the entity (Point=0, Line=1, Surface=2, Volume=3). and channel is a unique integer identifying the channel. Similarly, the second argument is the list of tuples of entities we would like to exclude from \n",
    "the newly created fluid volume.\n",
    "The next step is to tag physical entities, such as the fluid volume, and inlets, outlets, channel walls and obstacle walls.\n",
    "We start by finding the volumes, which after the `cut`-operation is only the fluid volume. We could have kept the other volumes by supply keyword arguments to the  `cut`operation. See the [GMSH Python API](https://gitlab.onelab.info/gmsh/gmsh/-/blob/master/api/gmsh.py#L5143) for more information. We also need to syncronize the CAD module before tagging entities."
   ]
  },
  {
   "cell_type": "code",
   "execution_count": 5,
   "metadata": {},
   "outputs": [],
   "source": [
    "gmsh.model.occ.synchronize()\n",
    "volumes = gmsh.model.getEntities(dim=3)\n",
    "assert(volumes == fluid[0])\n",
    "fluid_marker = 11\n",
    "gmsh.model.addPhysicalGroup(volumes[0][0], [volumes[0][1]], fluid_marker)\n",
    "gmsh.model.setPhysicalName(volumes[0][0], fluid_marker, \"Fluid volume\")"
   ]
  },
  {
   "cell_type": "markdown",
   "metadata": {},
   "source": [
    "For the surfaces, we start by finding all surfaces, and then compute the geometrical center such that we can indentify which are inlets, outlets, walls and the obstacle. As the walls will consist of multiple surfaces, and the obstacle is circular, we need to find all entites before addin the physical group."
   ]
  },
  {
   "cell_type": "code",
   "execution_count": 6,
   "metadata": {},
   "outputs": [],
   "source": [
    "import numpy as np\n",
    "surfaces = gmsh.model.occ.getEntities(dim=2)\n",
    "inlet_marker, outlet_marker, wall_marker, obstacle_marker = 1, 3, 5, 7\n",
    "walls = []\n",
    "obstacles = []\n",
    "for surface in surfaces:\n",
    "    com = gmsh.model.occ.getCenterOfMass(surface[0], surface[1])\n",
    "    if np.allclose(com, [0, B/2, H/2]):\n",
    "        gmsh.model.addPhysicalGroup(surface[0], [surface[1]], inlet_marker)\n",
    "        inlet = surface[1]\n",
    "        gmsh.model.setPhysicalName(surface[0], inlet_marker, \"Fluid inlet\")\n",
    "    elif np.allclose(com, [L, B/2, H/2]):\n",
    "        gmsh.model.addPhysicalGroup(surface[0], [surface[1]], outlet_marker)\n",
    "        gmsh.model.setPhysicalName(surface[0], outlet_marker, \"Fluid outlet\")\n",
    "    elif np.isclose(com[2], 0) or np.isclose(com[1], B) or np.isclose(com[2], H) or np.isclose(com[1],0):\n",
    "        walls.append(surface[1])\n",
    "    else:\n",
    "        obstacles.append(surface[1])\n",
    "gmsh.model.addPhysicalGroup(2, walls, wall_marker)\n",
    "gmsh.model.setPhysicalName(2, wall_marker, \"Walls\")\n",
    "gmsh.model.addPhysicalGroup(2, obstacles, obstacle_marker)\n",
    "gmsh.model.setPhysicalName(2, obstacle_marker, \"Obstacle\")"
   ]
  },
  {
   "cell_type": "markdown",
   "metadata": {},
   "source": [
    "The final step is to set mesh resolutions. We will use `GMSH Fields` to do this. One can alternatively set mesh resolutions at points with the command `gmsh.model.occ.mesh.setSize`. We start by specifying a distance field from the obstacle surface"
   ]
  },
  {
   "cell_type": "code",
   "execution_count": 7,
   "metadata": {},
   "outputs": [],
   "source": [
    "gmsh.model.mesh.field.add(\"Distance\", 1)\n",
    "gmsh.model.mesh.field.setNumbers(1, \"FacesList\", obstacles)"
   ]
  },
  {
   "cell_type": "markdown",
   "metadata": {},
   "source": [
    "The next step is to use a threshold function vary the resolution from these surfaces in the following way:\n",
    "```\n",
    "LcMax -                  /--------\n",
    "                     /\n",
    "LcMin -o---------/\n",
    "       |         |       |\n",
    "      Point    DistMin DistMax\n",
    "```"
   ]
  },
  {
   "cell_type": "code",
   "execution_count": 8,
   "metadata": {},
   "outputs": [],
   "source": [
    "resolution = r/10\n",
    "gmsh.model.mesh.field.add(\"Threshold\", 2)\n",
    "gmsh.model.mesh.field.setNumber(2, \"IField\", 1)\n",
    "gmsh.model.mesh.field.setNumber(2, \"LcMin\", resolution)\n",
    "gmsh.model.mesh.field.setNumber(2, \"LcMax\", 20*resolution)\n",
    "gmsh.model.mesh.field.setNumber(2, \"DistMin\", 0.5*r)\n",
    "gmsh.model.mesh.field.setNumber(2, \"DistMax\", r)\n"
   ]
  },
  {
   "cell_type": "markdown",
   "metadata": {},
   "source": [
    "We add a similar threshold at the inlet to ensure fully resolved inlet flow"
   ]
  },
  {
   "cell_type": "code",
   "execution_count": 9,
   "metadata": {},
   "outputs": [],
   "source": [
    "gmsh.model.mesh.field.add(\"Distance\", 3)\n",
    "gmsh.model.mesh.field.setNumbers(3, \"FacesList\", [inlet])\n",
    "gmsh.model.mesh.field.add(\"Threshold\", 4)\n",
    "gmsh.model.mesh.field.setNumber(4, \"IField\", 3)\n",
    "gmsh.model.mesh.field.setNumber(4, \"LcMin\", 5*resolution)\n",
    "gmsh.model.mesh.field.setNumber(4, \"LcMax\", 10*resolution)\n",
    "gmsh.model.mesh.field.setNumber(4, \"DistMin\", 0.1)\n",
    "gmsh.model.mesh.field.setNumber(4, \"DistMax\", 0.5)"
   ]
  },
  {
   "cell_type": "markdown",
   "metadata": {},
   "source": [
    "We combine these fields by using the minimum field"
   ]
  },
  {
   "cell_type": "code",
   "execution_count": 10,
   "metadata": {},
   "outputs": [],
   "source": [
    "gmsh.model.mesh.field.add(\"Min\", 5)\n",
    "gmsh.model.mesh.field.setNumbers(5, \"FieldsList\", [2, 4])\n",
    "gmsh.model.mesh.field.setAsBackgroundMesh(5)"
   ]
  },
  {
   "cell_type": "markdown",
   "metadata": {},
   "source": [
    "Before meshing the model, we need to use the syncronize command"
   ]
  },
  {
   "cell_type": "code",
   "execution_count": 11,
   "metadata": {},
   "outputs": [
    {
     "name": "stdout",
     "output_type": "stream",
     "text": [
      "Info    : Meshing 1D...\n",
      "Info    : [  0%] Meshing curve 13 (Circle)\n",
      "Info    : [ 10%] Meshing curve 14 (Line)\n",
      "Info    : [ 20%] Meshing curve 15 (Circle)\n",
      "Info    : [ 20%] Meshing curve 16 (Line)\n",
      "Info    : [ 30%] Meshing curve 17 (Line)\n",
      "Info    : [ 40%] Meshing curve 18 (Line)\n",
      "Info    : [ 40%] Meshing curve 19 (Line)\n",
      "Info    : [ 50%] Meshing curve 20 (Line)\n",
      "Info    : [ 60%] Meshing curve 21 (Line)\n",
      "Info    : [ 60%] Meshing curve 22 (Line)\n",
      "Info    : [ 70%] Meshing curve 23 (Line)\n",
      "Info    : [ 80%] Meshing curve 24 (Line)\n",
      "Info    : [ 80%] Meshing curve 25 (Line)\n",
      "Info    : [ 90%] Meshing curve 26 (Line)\n",
      "Info    : [100%] Meshing curve 27 (Line)\n",
      "Info    : Done meshing 1D (Wall 0.0551525s, CPU 0.060246s)\n",
      "Info    : Meshing 2D...\n",
      "Info    : [  0%] Meshing surface 7 (Cylinder, Frontal-Delaunay)\n",
      "Info    : [ 20%] Meshing surface 8 (Plane, Frontal-Delaunay)\n",
      "Info    : [ 30%] Meshing surface 9 (Plane, Frontal-Delaunay)\n",
      "Info    : [ 50%] Meshing surface 10 (Plane, Frontal-Delaunay)\n",
      "Info    : [ 60%] Meshing surface 11 (Plane, Frontal-Delaunay)\n",
      "Info    : [ 80%] Meshing surface 12 (Plane, Frontal-Delaunay)\n",
      "Info    : [ 90%] Meshing surface 13 (Plane, Frontal-Delaunay)\n",
      "Info    : Done meshing 2D (Wall 0.641131s, CPU 0.665321s)\n",
      "Info    : Meshing 3D...\n",
      "Info    : 3D Meshing 1 volume with 1 connected component\n",
      "Info    : Tetrahedrizing 10220 nodes...\n",
      "Info    : Done tetrahedrizing 10228 nodes (Wall 0.281923s, CPU 0.281868s)\n",
      "Info    : Reconstructing mesh...\n",
      "Info    :  - Creating surface mesh\n",
      "Info    :  - Identifying boundary edges\n",
      "Info    :  - Recovering boundary\n",
      "Info    : Done reconstructing mesh (Wall 0.704527s, CPU 0.704765s)\n",
      "Info    : Found volume 1\n",
      "Info    : It. 0 - 0 nodes created - worst tet radius 19.0147 (nodes removed 0 0)\n",
      "Info    : It. 500 - 500 nodes created - worst tet radius 4.00155 (nodes removed 0 0)\n",
      "Info    : It. 1000 - 1000 nodes created - worst tet radius 2.83444 (nodes removed 0 0)\n",
      "Info    : It. 1500 - 1500 nodes created - worst tet radius 2.47059 (nodes removed 0 0)\n",
      "Info    : It. 2000 - 2000 nodes created - worst tet radius 2.25416 (nodes removed 0 0)\n",
      "Info    : It. 2500 - 2500 nodes created - worst tet radius 2.10153 (nodes removed 0 0)\n",
      "Info    : It. 3000 - 3000 nodes created - worst tet radius 1.97652 (nodes removed 0 0)\n",
      "Info    : It. 3500 - 3500 nodes created - worst tet radius 1.88378 (nodes removed 0 0)\n",
      "Info    : It. 4000 - 4000 nodes created - worst tet radius 1.80401 (nodes removed 0 0)\n",
      "Info    : It. 4500 - 4500 nodes created - worst tet radius 1.73927 (nodes removed 0 0)\n",
      "Info    : It. 5000 - 5000 nodes created - worst tet radius 1.68427 (nodes removed 0 0)\n",
      "Info    : It. 5500 - 5500 nodes created - worst tet radius 1.63014 (nodes removed 0 0)\n",
      "Info    : It. 6000 - 6000 nodes created - worst tet radius 1.68971 (nodes removed 0 0)\n",
      "Info    : It. 6500 - 6500 nodes created - worst tet radius 1.55028 (nodes removed 0 0)\n",
      "Info    : It. 7000 - 7000 nodes created - worst tet radius 1.51584 (nodes removed 0 0)\n",
      "Info    : It. 7500 - 7500 nodes created - worst tet radius 1.48152 (nodes removed 0 0)\n",
      "Info    : It. 8000 - 8000 nodes created - worst tet radius 1.72951 (nodes removed 0 0)\n",
      "Info    : It. 8500 - 8500 nodes created - worst tet radius 1.42345 (nodes removed 0 0)\n",
      "Info    : It. 9000 - 9000 nodes created - worst tet radius 1.39902 (nodes removed 0 0)\n",
      "Info    : It. 9500 - 9500 nodes created - worst tet radius 1.37586 (nodes removed 0 0)\n",
      "Info    : It. 10000 - 10000 nodes created - worst tet radius 1.35467 (nodes removed 0 0)\n",
      "Info    : It. 10500 - 10500 nodes created - worst tet radius 1.33338 (nodes removed 0 0)\n",
      "Info    : It. 11000 - 11000 nodes created - worst tet radius 1.31297 (nodes removed 0 0)\n",
      "Info    : It. 11500 - 11500 nodes created - worst tet radius 1.39066 (nodes removed 0 0)\n",
      "Info    : It. 12000 - 12000 nodes created - worst tet radius 1.27857 (nodes removed 0 0)\n",
      "Info    : It. 12500 - 12500 nodes created - worst tet radius 1.39869 (nodes removed 0 0)\n",
      "Info    : It. 13000 - 13000 nodes created - worst tet radius 1.2576 (nodes removed 0 0)\n",
      "Info    : It. 13500 - 13500 nodes created - worst tet radius 1.23101 (nodes removed 0 0)\n",
      "Info    : It. 14000 - 14000 nodes created - worst tet radius 1.21703 (nodes removed 0 0)\n",
      "Info    : It. 14500 - 14500 nodes created - worst tet radius 1.20501 (nodes removed 0 0)\n",
      "Info    : It. 15000 - 15000 nodes created - worst tet radius 1.19227 (nodes removed 0 0)\n",
      "Info    : It. 15500 - 15500 nodes created - worst tet radius 1.17975 (nodes removed 0 0)\n",
      "Info    : It. 16000 - 16000 nodes created - worst tet radius 1.17075 (nodes removed 0 0)\n",
      "Info    : It. 16500 - 16500 nodes created - worst tet radius 1.15705 (nodes removed 0 0)\n",
      "Info    : It. 17000 - 17000 nodes created - worst tet radius 1.14611 (nodes removed 0 0)\n",
      "Info    : It. 17500 - 17500 nodes created - worst tet radius 1.1355 (nodes removed 0 0)\n",
      "Info    : It. 18000 - 18000 nodes created - worst tet radius 1.12603 (nodes removed 0 0)\n",
      "Info    : It. 18500 - 18500 nodes created - worst tet radius 1.11591 (nodes removed 0 0)\n",
      "Info    : It. 19000 - 19000 nodes created - worst tet radius 1.10635 (nodes removed 0 0)\n",
      "Info    : It. 19500 - 19500 nodes created - worst tet radius 1.09706 (nodes removed 0 0)\n",
      "Info    : It. 20000 - 20000 nodes created - worst tet radius 1.08842 (nodes removed 0 0)\n",
      "Info    : It. 20500 - 20500 nodes created - worst tet radius 1.07953 (nodes removed 0 0)\n",
      "Info    : It. 21000 - 21000 nodes created - worst tet radius 1.07159 (nodes removed 0 0)\n",
      "Info    : It. 21500 - 21500 nodes created - worst tet radius 1.06419 (nodes removed 0 0)\n",
      "Info    : It. 22000 - 22000 nodes created - worst tet radius 1.05654 (nodes removed 0 0)\n",
      "Info    : It. 22500 - 22500 nodes created - worst tet radius 1.04862 (nodes removed 0 0)\n",
      "Info    : It. 23000 - 23000 nodes created - worst tet radius 1.04116 (nodes removed 0 0)\n",
      "Info    : It. 23500 - 23500 nodes created - worst tet radius 1.03423 (nodes removed 0 0)\n",
      "Info    : It. 24000 - 24000 nodes created - worst tet radius 1.02697 (nodes removed 0 0)\n",
      "Info    : It. 24500 - 24500 nodes created - worst tet radius 1.02019 (nodes removed 0 0)\n",
      "Info    : It. 25000 - 25000 nodes created - worst tet radius 1.01365 (nodes removed 0 0)\n",
      "Info    : It. 25500 - 25500 nodes created - worst tet radius 1.00782 (nodes removed 0 0)\n",
      "Info    : It. 26000 - 26000 nodes created - worst tet radius 1.00114 (nodes removed 0 0)\n",
      "Info    : 3D refinement terminated (36304 nodes total):\n",
      "Info    :  - 0 Delaunay cavities modified for star shapeness\n",
      "Info    :  - 0 nodes could not be inserted\n",
      "Info    :  - 197065 tetrahedra created in 3.64021 sec. (54135 tets/s)\n",
      "Info    : Done meshing 3D (Wall 5.57773s, CPU 5.96912s)\n",
      "Info    : Optimizing mesh...\n",
      "Info    : Optimizing volume 1\n",
      "Info    : Optimization starts (volume = 0.417034) with worst = 0.00483627 / average = 0.764831:\n",
      "Info    : 0.00 < quality < 0.10 :       435 elements\n",
      "Info    : 0.10 < quality < 0.20 :      1343 elements\n",
      "Info    : 0.20 < quality < 0.30 :      2540 elements\n",
      "Info    : 0.30 < quality < 0.40 :      4128 elements\n",
      "Info    : 0.40 < quality < 0.50 :      7034 elements\n",
      "Info    : 0.50 < quality < 0.60 :     11768 elements\n",
      "Info    : 0.60 < quality < 0.70 :     22422 elements\n",
      "Info    : 0.70 < quality < 0.80 :     45569 elements\n",
      "Info    : 0.80 < quality < 0.90 :     67347 elements\n",
      "Info    : 0.90 < quality < 1.00 :     34479 elements\n",
      "Info    : 4185 edge swaps, 210 node relocations (volume = 0.417034): worst = 0.158901 / average = 0.777337 (Wall 0.212271s, CPU 0.212938s)\n",
      "Info    : 4241 edge swaps, 222 node relocations (volume = 0.417034): worst = 0.163219 / average = 0.777415 (Wall 0.285824s, CPU 0.287448s)\n",
      "Info    : 4244 edge swaps, 225 node relocations (volume = 0.417034): worst = 0.163219 / average = 0.777425 (Wall 0.373516s, CPU 0.396211s)\n",
      "Info    : No ill-shaped tets in the mesh :-)\n",
      "Info    : 0.00 < quality < 0.10 :         0 elements\n",
      "Info    : 0.10 < quality < 0.20 :         1 elements\n",
      "Info    : 0.20 < quality < 0.30 :        14 elements\n",
      "Info    : 0.30 < quality < 0.40 :      4141 elements\n",
      "Info    : 0.40 < quality < 0.50 :      6937 elements\n",
      "Info    : 0.50 < quality < 0.60 :     11607 elements\n",
      "Info    : 0.60 < quality < 0.70 :     22522 elements\n",
      "Info    : 0.70 < quality < 0.80 :     46148 elements\n",
      "Info    : 0.80 < quality < 0.90 :     67819 elements\n",
      "Info    : 0.90 < quality < 1.00 :     34204 elements\n",
      "Info    : Done optimizing mesh (Wall 0.951205s, CPU 0.941324s)\n",
      "Info    : 36304 nodes 214382 elements\n"
     ]
    }
   ],
   "source": [
    "gmsh.model.occ.synchronize()\n",
    "gmsh.model.mesh.generate(3)"
   ]
  },
  {
   "cell_type": "markdown",
   "metadata": {},
   "source": [
    "We can write the mesh to msh to be visualized with gmsh with the following command"
   ]
  },
  {
   "cell_type": "code",
   "execution_count": 12,
   "metadata": {},
   "outputs": [
    {
     "name": "stdout",
     "output_type": "stream",
     "text": [
      "Info    : Writing 'mesh3D.msh'...\n",
      "Info    : Done writing 'mesh3D.msh'\n"
     ]
    }
   ],
   "source": [
    "gmsh.write(\"mesh3D.msh\")"
   ]
  },
  {
   "cell_type": "markdown",
   "metadata": {},
   "source": [
    "The mesh can be visualized in the GMSH GUI. The figure above visualized the marked facets of the 3D geometry.\n",
    "![Facets of the 3D mesh visualized in GMSH](../assets/img/tutorial_gmsh.png)"
   ]
  },
  {
   "cell_type": "markdown",
   "metadata": {},
   "source": [
    "In the next tutorials, we will learn two diffferent methods of loading this mesh into [dolfin-X](https://github.com/FEniCS/dolfinx/)"
   ]
  },
  {
   "cell_type": "markdown",
   "metadata": {},
   "source": [
    "## <a name=\"second\"></a> 2. How to load this mesh into dolfin-X without IO\n",
    "In his tutorial, we will go through the steps of how to load the gmsh geometry above into dolfin-X, without using an\n",
    "intermediate file for storing mesh data."
   ]
  },
  {
   "cell_type": "markdown",
   "metadata": {},
   "source": [
    "### Stort tutorial\n",
    "Download [gmsh_helpers.py](gmsh_helpers.py), and run the following"
   ]
  },
  {
   "cell_type": "code",
   "execution_count": 37,
   "metadata": {},
   "outputs": [
    {
     "ename": "TypeError",
     "evalue": "create_mesh(): incompatible function arguments. The following argument types are supported:\n    1. (arg0: MPICommWrapper, arg1: dolfinx::graph::AdjacencyList<long>, arg2: dolfinx::fem::CoordinateElement, arg3: numpy.ndarray[numpy.float64], arg4: dolfinx::mesh::GhostMode, arg5: Callable[[MPICommWrapper, int, int, dolfinx::graph::AdjacencyList<long>, dolfinx::mesh::GhostMode], dolfinx::graph::AdjacencyList<int>]) -> dolfinx::mesh::Mesh\n\nInvoked with: <mpi4py.MPI.Intracomm object at 0x7f4db457b7d0>, array([[11550, 21124, 19393, 31195],\n       [12068, 14770, 19241, 23228],\n       [15693, 16185, 13394, 21504],\n       ...,\n       [17540, 17740, 29284, 20448],\n       [22151, 23265, 22232, 26558],\n       [22151, 22232, 23265, 16900]]), array([[0.5       , 0.41      , 0.25      ],\n       [0.5       , 0.        , 0.25      ],\n       [0.        , 0.        , 0.41      ],\n       ...,\n       [0.42684497, 0.22102659, 0.21149624],\n       [0.55837638, 0.20258508, 0.20912054],\n       [0.45091405, 0.17728979, 0.25000597]]), Mesh(VectorElement(FiniteElement('Lagrange', tetrahedron, 1, variant='equispaced'), dim=3, variant='equispaced'), 7)",
     "output_type": "error",
     "traceback": [
      "\u001b[0;31m---------------------------------------------------------------------------\u001b[0m",
      "\u001b[0;31mTypeError\u001b[0m                                 Traceback (most recent call last)",
      "Input \u001b[0;32mIn [37]\u001b[0m, in \u001b[0;36m<cell line: 2>\u001b[0;34m()\u001b[0m\n\u001b[1;32m      1\u001b[0m \u001b[38;5;28;01mfrom\u001b[39;00m \u001b[38;5;21;01mgmsh_helpers\u001b[39;00m \u001b[38;5;28;01mimport\u001b[39;00m gmsh_model_to_mesh\n\u001b[0;32m----> 2\u001b[0m mesh, cell_tags, facet_tags \u001b[38;5;241m=\u001b[39m \u001b[43mgmsh_model_to_mesh\u001b[49m\u001b[43m(\u001b[49m\u001b[43mgmsh\u001b[49m\u001b[38;5;241;43m.\u001b[39;49m\u001b[43mmodel\u001b[49m\u001b[43m,\u001b[49m\u001b[43m \u001b[49m\u001b[43mcell_data\u001b[49m\u001b[38;5;241;43m=\u001b[39;49m\u001b[38;5;28;43;01mTrue\u001b[39;49;00m\u001b[43m,\u001b[49m\u001b[43m \u001b[49m\u001b[43mfacet_data\u001b[49m\u001b[38;5;241;43m=\u001b[39;49m\u001b[38;5;28;43;01mTrue\u001b[39;49;00m\u001b[43m,\u001b[49m\u001b[43m \u001b[49m\u001b[43mgdim\u001b[49m\u001b[38;5;241;43m=\u001b[39;49m\u001b[38;5;241;43m3\u001b[39;49m\u001b[43m)\u001b[49m\n",
      "File \u001b[0;32m~/gmsh_helpers.py:119\u001b[0m, in \u001b[0;36mgmsh_model_to_mesh\u001b[0;34m(model, cell_data, facet_data, gdim)\u001b[0m\n\u001b[1;32m    117\u001b[0m gmsh_cell_perm \u001b[38;5;241m=\u001b[39m perm_gmsh(to_type(\u001b[38;5;28mstr\u001b[39m(ufl_domain\u001b[38;5;241m.\u001b[39mufl_cell())), num_nodes)\n\u001b[1;32m    118\u001b[0m cells \u001b[38;5;241m=\u001b[39m cells[:, gmsh_cell_perm]\n\u001b[0;32m--> 119\u001b[0m mesh \u001b[38;5;241m=\u001b[39m \u001b[43mcreate_mesh\u001b[49m\u001b[43m(\u001b[49m\u001b[43mMPI\u001b[49m\u001b[38;5;241;43m.\u001b[39;49m\u001b[43mCOMM_WORLD\u001b[49m\u001b[43m,\u001b[49m\u001b[43m \u001b[49m\u001b[43mcells\u001b[49m\u001b[43m,\u001b[49m\u001b[43m \u001b[49m\u001b[43mx\u001b[49m\u001b[43m[\u001b[49m\u001b[43m:\u001b[49m\u001b[43m,\u001b[49m\u001b[43m \u001b[49m\u001b[43m:\u001b[49m\u001b[43mgdim\u001b[49m\u001b[43m]\u001b[49m\u001b[43m,\u001b[49m\u001b[43m \u001b[49m\u001b[43mufl_domain\u001b[49m\u001b[43m)\u001b[49m\n\u001b[1;32m    120\u001b[0m \u001b[38;5;66;03m# Create MeshTags for cells\u001b[39;00m\n\u001b[1;32m    121\u001b[0m \u001b[38;5;28;01mif\u001b[39;00m cell_data:\n",
      "\u001b[0;31mTypeError\u001b[0m: create_mesh(): incompatible function arguments. The following argument types are supported:\n    1. (arg0: MPICommWrapper, arg1: dolfinx::graph::AdjacencyList<long>, arg2: dolfinx::fem::CoordinateElement, arg3: numpy.ndarray[numpy.float64], arg4: dolfinx::mesh::GhostMode, arg5: Callable[[MPICommWrapper, int, int, dolfinx::graph::AdjacencyList<long>, dolfinx::mesh::GhostMode], dolfinx::graph::AdjacencyList<int>]) -> dolfinx::mesh::Mesh\n\nInvoked with: <mpi4py.MPI.Intracomm object at 0x7f4db457b7d0>, array([[11550, 21124, 19393, 31195],\n       [12068, 14770, 19241, 23228],\n       [15693, 16185, 13394, 21504],\n       ...,\n       [17540, 17740, 29284, 20448],\n       [22151, 23265, 22232, 26558],\n       [22151, 22232, 23265, 16900]]), array([[0.5       , 0.41      , 0.25      ],\n       [0.5       , 0.        , 0.25      ],\n       [0.        , 0.        , 0.41      ],\n       ...,\n       [0.42684497, 0.22102659, 0.21149624],\n       [0.55837638, 0.20258508, 0.20912054],\n       [0.45091405, 0.17728979, 0.25000597]]), Mesh(VectorElement(FiniteElement('Lagrange', tetrahedron, 1, variant='equispaced'), dim=3, variant='equispaced'), 7)"
     ]
    }
   ],
   "source": [
    "from gmsh_helpers import gmsh_model_to_mesh\n",
    "mesh, cell_tags, facet_tags = gmsh_model_to_mesh(gmsh.model, cell_data=True, facet_data=True, gdim=3)"
   ]
  },
  {
   "cell_type": "markdown",
   "metadata": {},
   "source": [
    "This function creates a mesh on processor 0 with GMSH and distributes the mesh data in a `dolfinx.Mesh` for parallel usage. The flags `cell_data` and `facet_data` are booleans that indicates that you would like to extract cell and facet markers from the gmsh model. The last flag `gdim` indicates the geometrical dimension of your mesh, and should be set to `2` if you want to have a 2D geometry.\n",
    "### Long tutorial\n",
    "If you want to learn what the `gmsh_model_to_mesh` function is actualy doing, the rest of this section will go through it step by step. Note that the long tutorial assumes that you are running in serial, and does therefore not require the MPI-communication found in `gmsh_model_to_mesh`.\n",
    "We start by using some convenience functions from dolfin-x to extract the mesh geometry (the nodes of the mesh) and the mesh topology (the cell connectivities) for the mesh."
   ]
  },
  {
   "cell_type": "code",
   "execution_count": 25,
   "metadata": {},
   "outputs": [],
   "source": [
    "from dolfinx.io import extract_gmsh_geometry, extract_gmsh_topology_and_markers "
   ]
  },
  {
   "cell_type": "code",
   "execution_count": 26,
   "metadata": {},
   "outputs": [],
   "source": [
    "x = extract_gmsh_geometry(gmsh.model)\n",
    "topologies = extract_gmsh_topology_and_markers(gmsh.model)"
   ]
  },
  {
   "cell_type": "markdown",
   "metadata": {},
   "source": [
    "The mesh geometry is a (number of points, 3) array of all the coordinates of the nodes in the mesh. The topologies is a dictionary, where the key is the unique [GMSH cell identifier](http://gmsh.info//doc/texinfo/gmsh.html#MSH-file-format). For each cell type, there is a sub-dictionary containing the mesh topology, an array (number_of_cells, number_of_nodes_per_cell) array containing an integer referring to a row (coordinate) in the mesh geometry, and a 1D array (cell_data) with mesh markers for each cell in the topology.\n",
    "\n",
    "As an MSH-file can contain meshes for multiple topological dimensions (0=vertices, 1=lines, 2=surfaces, 3=volumes), we have to determine which of the cells has to highest topological dimension. We do this with the following snippet"
   ]
  },
  {
   "cell_type": "code",
   "execution_count": 27,
   "metadata": {},
   "outputs": [],
   "source": [
    "import numpy\n",
    "# Get information about each cell type from the msh files\n",
    "num_cell_types = len(topologies.keys())\n",
    "cell_information = {}\n",
    "cell_dimensions = numpy.zeros(num_cell_types, dtype=numpy.int32)\n",
    "for i, element in enumerate(topologies.keys()):\n",
    "    properties = gmsh.model.mesh.getElementProperties(element)\n",
    "    name, dim, order, num_nodes, local_coords, _ = properties\n",
    "    cell_information[i] = {\"id\": element, \"dim\": dim,\n",
    "                           \"num_nodes\": num_nodes}\n",
    "    cell_dimensions[i] = dim\n",
    "\n",
    "# Sort elements by ascending dimension\n",
    "perm_sort = numpy.argsort(cell_dimensions)"
   ]
  },
  {
   "cell_type": "markdown",
   "metadata": {},
   "source": [
    "We extract the topology of the cell with the highest topological dimension from `topologies`, and create the corresponding `ufl.domain.Mesh` for the given celltype"
   ]
  },
  {
   "cell_type": "code",
   "execution_count": 28,
   "metadata": {},
   "outputs": [],
   "source": [
    "from dolfinx.io import ufl_mesh_from_gmsh\n",
    "cell_id = cell_information[perm_sort[-1]][\"id\"]\n",
    "cells = numpy.asarray(topologies[cell_id][\"topology\"], dtype=numpy.int64)\n",
    "ufl_domain = ufl_mesh_from_gmsh(cell_id, 3)"
   ]
  },
  {
   "cell_type": "markdown",
   "metadata": {},
   "source": [
    "As the GMSH model has the cell topology ordered as specified in the  [MSH format](http://gmsh.info//doc/texinfo/gmsh.html#Node-ordering),\n",
    "we have to permute the topology to the [FIAT format](https://github.com/FEniCS/dolfinx/blob/e7f0a504e6ff538ad9992d8be73f74f53b630d11/cpp/dolfinx/io/cells.h#L16-L77). The permuation is done using the `perm_gmsh` function from dolfin-X."
   ]
  },
  {
   "cell_type": "code",
   "execution_count": 29,
   "metadata": {},
   "outputs": [],
   "source": [
    "from dolfinx.cpp.io import perm_gmsh\n",
    "from dolfinx.cpp.mesh import to_type\n",
    "num_nodes = cell_information[perm_sort[-1]][\"num_nodes\"]\n",
    "gmsh_cell_perm = perm_gmsh(to_type(str(ufl_domain.ufl_cell())), num_nodes)\n",
    "cells = cells[:, gmsh_cell_perm]"
   ]
  },
  {
   "cell_type": "markdown",
   "metadata": {},
   "source": [
    "The final step is to create the mesh from the topology and geometry"
   ]
  },
  {
   "cell_type": "code",
   "execution_count": 36,
   "metadata": {},
   "outputs": [],
   "source": [
    "from dolfinx.mesh import create_mesh\n",
    "from mpi4py import MPI\n",
    "mesh = create_mesh(MPI.COMM_WORLD, cells, x, ufl_domain)"
   ]
  },
  {
   "cell_type": "markdown",
   "metadata": {},
   "source": [
    "As the meshes can contain markers for the cells or any sub entity, the next snippets show how to extract this info to GMSH into `dolfinx.MeshTags`."
   ]
  },
  {
   "cell_type": "code",
   "execution_count": 31,
   "metadata": {},
   "outputs": [],
   "source": [
    "from dolfinx.cpp.io import distribute_entity_data\n",
    "from dolfinx.cpp.graph import AdjacencyList_int32\n",
    "from dolfinx.cpp.mesh import cell_entity_type\n",
    "from dolfinx.cpp.mesh import create_meshtags\n",
    "# Create MeshTags for cell data\n",
    "cell_values = numpy.asarray(topologies[cell_id][\"cell_data\"], dtype=numpy.int32)\n",
    "local_entities, local_values = distribute_entity_data(mesh, mesh.topology.dim, cells, cell_values)\n",
    "mesh.topology.create_connectivity(mesh.topology.dim, 0)\n",
    "adj = AdjacencyList_int32(local_entities)\n",
    "ct = create_meshtags(mesh, mesh.topology.dim, adj, numpy.int32(local_values))\n",
    "ct.name = \"Cell tags\"\n",
    "\n",
    "# Create MeshTags for facets\n",
    "# Permute facets from MSH to Dolfin-X ordering\n",
    "# FIXME: This does not work for prism meshes\n",
    "facet_type = cell_entity_type(to_type(str(ufl_domain.ufl_cell())), mesh.topology.dim - 1, 0)\n",
    "gmsh_facet_id = cell_information[perm_sort[-2]][\"id\"]\n",
    "num_facet_nodes = cell_information[perm_sort[-2]][\"num_nodes\"]\n",
    "gmsh_facet_perm = perm_gmsh(facet_type, num_facet_nodes)\n",
    "marked_facets = numpy.asarray(topologies[gmsh_facet_id][\"topology\"], dtype=numpy.int64)\n",
    "facet_values = numpy.asarray(topologies[gmsh_facet_id][\"cell_data\"], dtype=numpy.int32)\n",
    "marked_facets = marked_facets[:, gmsh_facet_perm]\n",
    "local_entities, local_values = distribute_entity_data(mesh, mesh.topology.dim - 1, marked_facets, facet_values)\n",
    "mesh.topology.create_connectivity(mesh.topology.dim - 1, mesh.topology.dim)\n",
    "adj = AdjacencyList_int32(local_entities)\n",
    "ft = create_meshtags(mesh, mesh.topology.dim - 1,adj, numpy.int32(local_values))\n",
    "ft.name = \"Facet tags\"\n",
    "\n",
    "# Output DOLFINx meshes to file\n",
    "from dolfinx.io import XDMFFile\n",
    "with XDMFFile(MPI.COMM_WORLD, \"mesh_out.xdmf\", \"w\") as xdmf:\n",
    "    xdmf.write_mesh(mesh)\n",
    "    xdmf.write_meshtags(ft)\n",
    "    xdmf.write_meshtags(ct)"
   ]
  },
  {
   "cell_type": "markdown",
   "metadata": {},
   "source": [
    "## <a name=\"third\"></a> 3. How to load msh files into dolfin-X\n",
    "In the previous tutorial, we learnt how to load a gmsh python model into dolfin-X. In this section, we will learn how to load an \"msh\" file into dolfin-X.\n",
    "We will do this by using the `gmsh_model_to_mesh` function explained in detail in the previous section.\n",
    "We load the `read_from_msh`-function from [gmsh_helpers.py](gmsh_helpers.py) and use it in the following way"
   ]
  },
  {
   "cell_type": "code",
   "execution_count": 21,
   "metadata": {},
   "outputs": [
    {
     "name": "stdout",
     "output_type": "stream",
     "text": [
      "Info    : Reading 'mesh3D.msh'...\n",
      "Info    : 33 entities\n",
      "Info    : 36304 nodes\n",
      "Info    : 213836 elements\n",
      "Info    : Done reading 'mesh3D.msh'                                        \n"
     ]
    },
    {
     "ename": "TypeError",
     "evalue": "create_mesh(): incompatible function arguments. The following argument types are supported:\n    1. (arg0: MPICommWrapper, arg1: dolfinx::graph::AdjacencyList<long>, arg2: dolfinx::fem::CoordinateElement, arg3: numpy.ndarray[numpy.float64], arg4: dolfinx::mesh::GhostMode, arg5: Callable[[MPICommWrapper, int, int, dolfinx::graph::AdjacencyList<long>, dolfinx::mesh::GhostMode], dolfinx::graph::AdjacencyList<int>]) -> dolfinx::mesh::Mesh\n\nInvoked with: <mpi4py.MPI.Intracomm object at 0x7f4db457b7d0>, array([[11550, 21124, 19393, 31195],\n       [12068, 14770, 19241, 23228],\n       [15693, 16185, 13394, 21504],\n       ...,\n       [17540, 17740, 29284, 20448],\n       [22151, 23265, 22232, 26558],\n       [22151, 22232, 23265, 16900]]), array([[0.5       , 0.41      , 0.25      ],\n       [0.5       , 0.        , 0.25      ],\n       [0.        , 0.        , 0.41      ],\n       ...,\n       [0.42684497, 0.22102659, 0.21149624],\n       [0.55837638, 0.20258508, 0.20912054],\n       [0.45091405, 0.17728979, 0.25000597]]), Mesh(VectorElement(FiniteElement('Lagrange', tetrahedron, 1, variant='equispaced'), dim=3, variant='equispaced'), 2)",
     "output_type": "error",
     "traceback": [
      "\u001b[0;31m---------------------------------------------------------------------------\u001b[0m",
      "\u001b[0;31mTypeError\u001b[0m                                 Traceback (most recent call last)",
      "Input \u001b[0;32mIn [21]\u001b[0m, in \u001b[0;36m<cell line: 2>\u001b[0;34m()\u001b[0m\n\u001b[1;32m      1\u001b[0m \u001b[38;5;28;01mfrom\u001b[39;00m \u001b[38;5;21;01mgmsh_helpers\u001b[39;00m \u001b[38;5;28;01mimport\u001b[39;00m read_from_msh\n\u001b[0;32m----> 2\u001b[0m mesh, cell_tags, facet_tags \u001b[38;5;241m=\u001b[39m \u001b[43mread_from_msh\u001b[49m\u001b[43m(\u001b[49m\u001b[38;5;124;43m\"\u001b[39;49m\u001b[38;5;124;43mmesh3D.msh\u001b[39;49m\u001b[38;5;124;43m\"\u001b[39;49m\u001b[43m,\u001b[49m\u001b[43m \u001b[49m\u001b[43mcell_data\u001b[49m\u001b[38;5;241;43m=\u001b[39;49m\u001b[38;5;28;43;01mTrue\u001b[39;49;00m\u001b[43m,\u001b[49m\u001b[43m \u001b[49m\u001b[43mfacet_data\u001b[49m\u001b[38;5;241;43m=\u001b[39;49m\u001b[38;5;28;43;01mTrue\u001b[39;49;00m\u001b[43m,\u001b[49m\u001b[43m \u001b[49m\u001b[43mgdim\u001b[49m\u001b[38;5;241;43m=\u001b[39;49m\u001b[38;5;241;43m3\u001b[39;49m\u001b[43m)\u001b[49m\n",
      "File \u001b[0;32m~/gmsh_helpers.py:41\u001b[0m, in \u001b[0;36mread_from_msh\u001b[0;34m(filename, cell_data, facet_data, gdim)\u001b[0m\n\u001b[1;32m     39\u001b[0m     gmsh\u001b[38;5;241m.\u001b[39mmodel\u001b[38;5;241m.\u001b[39madd(\u001b[38;5;124m\"\u001b[39m\u001b[38;5;124mMesh from file\u001b[39m\u001b[38;5;124m\"\u001b[39m)\n\u001b[1;32m     40\u001b[0m     gmsh\u001b[38;5;241m.\u001b[39mmerge(filename)\n\u001b[0;32m---> 41\u001b[0m output \u001b[38;5;241m=\u001b[39m \u001b[43mgmsh_model_to_mesh\u001b[49m\u001b[43m(\u001b[49m\u001b[43mgmsh\u001b[49m\u001b[38;5;241;43m.\u001b[39;49m\u001b[43mmodel\u001b[49m\u001b[43m,\u001b[49m\u001b[43m \u001b[49m\u001b[43mcell_data\u001b[49m\u001b[38;5;241;43m=\u001b[39;49m\u001b[43mcell_data\u001b[49m\u001b[43m,\u001b[49m\n\u001b[1;32m     42\u001b[0m \u001b[43m                            \u001b[49m\u001b[43mfacet_data\u001b[49m\u001b[38;5;241;43m=\u001b[39;49m\u001b[43mfacet_data\u001b[49m\u001b[43m,\u001b[49m\u001b[43m \u001b[49m\u001b[43mgdim\u001b[49m\u001b[38;5;241;43m=\u001b[39;49m\u001b[43mgdim\u001b[49m\u001b[43m)\u001b[49m\n\u001b[1;32m     43\u001b[0m \u001b[38;5;28;01mif\u001b[39;00m MPI\u001b[38;5;241m.\u001b[39mCOMM_WORLD\u001b[38;5;241m.\u001b[39mrank \u001b[38;5;241m==\u001b[39m \u001b[38;5;241m0\u001b[39m:\n\u001b[1;32m     44\u001b[0m     \u001b[38;5;28;01mif\u001b[39;00m current_model \u001b[38;5;129;01mis\u001b[39;00m \u001b[38;5;28;01mNone\u001b[39;00m:\n",
      "File \u001b[0;32m~/gmsh_helpers.py:119\u001b[0m, in \u001b[0;36mgmsh_model_to_mesh\u001b[0;34m(model, cell_data, facet_data, gdim)\u001b[0m\n\u001b[1;32m    117\u001b[0m gmsh_cell_perm \u001b[38;5;241m=\u001b[39m perm_gmsh(to_type(\u001b[38;5;28mstr\u001b[39m(ufl_domain\u001b[38;5;241m.\u001b[39mufl_cell())), num_nodes)\n\u001b[1;32m    118\u001b[0m cells \u001b[38;5;241m=\u001b[39m cells[:, gmsh_cell_perm]\n\u001b[0;32m--> 119\u001b[0m mesh \u001b[38;5;241m=\u001b[39m \u001b[43mcreate_mesh\u001b[49m\u001b[43m(\u001b[49m\u001b[43mMPI\u001b[49m\u001b[38;5;241;43m.\u001b[39;49m\u001b[43mCOMM_WORLD\u001b[49m\u001b[43m,\u001b[49m\u001b[43m \u001b[49m\u001b[43mcells\u001b[49m\u001b[43m,\u001b[49m\u001b[43m \u001b[49m\u001b[43mx\u001b[49m\u001b[43m[\u001b[49m\u001b[43m:\u001b[49m\u001b[43m,\u001b[49m\u001b[43m \u001b[49m\u001b[43m:\u001b[49m\u001b[43mgdim\u001b[49m\u001b[43m]\u001b[49m\u001b[43m,\u001b[49m\u001b[43m \u001b[49m\u001b[43mufl_domain\u001b[49m\u001b[43m)\u001b[49m\n\u001b[1;32m    120\u001b[0m \u001b[38;5;66;03m# Create MeshTags for cells\u001b[39;00m\n\u001b[1;32m    121\u001b[0m \u001b[38;5;28;01mif\u001b[39;00m cell_data:\n",
      "\u001b[0;31mTypeError\u001b[0m: create_mesh(): incompatible function arguments. The following argument types are supported:\n    1. (arg0: MPICommWrapper, arg1: dolfinx::graph::AdjacencyList<long>, arg2: dolfinx::fem::CoordinateElement, arg3: numpy.ndarray[numpy.float64], arg4: dolfinx::mesh::GhostMode, arg5: Callable[[MPICommWrapper, int, int, dolfinx::graph::AdjacencyList<long>, dolfinx::mesh::GhostMode], dolfinx::graph::AdjacencyList<int>]) -> dolfinx::mesh::Mesh\n\nInvoked with: <mpi4py.MPI.Intracomm object at 0x7f4db457b7d0>, array([[11550, 21124, 19393, 31195],\n       [12068, 14770, 19241, 23228],\n       [15693, 16185, 13394, 21504],\n       ...,\n       [17540, 17740, 29284, 20448],\n       [22151, 23265, 22232, 26558],\n       [22151, 22232, 23265, 16900]]), array([[0.5       , 0.41      , 0.25      ],\n       [0.5       , 0.        , 0.25      ],\n       [0.        , 0.        , 0.41      ],\n       ...,\n       [0.42684497, 0.22102659, 0.21149624],\n       [0.55837638, 0.20258508, 0.20912054],\n       [0.45091405, 0.17728979, 0.25000597]]), Mesh(VectorElement(FiniteElement('Lagrange', tetrahedron, 1, variant='equispaced'), dim=3, variant='equispaced'), 2)"
     ]
    }
   ],
   "source": [
    "from gmsh_helpers import read_from_msh\n",
    "mesh, cell_tags, facet_tags = read_from_msh(\"mesh3D.msh\", cell_data=True, facet_data=True, gdim=3)"
   ]
  },
  {
   "cell_type": "markdown",
   "metadata": {},
   "source": [
    "What this function does, is that it uses the `gmsh.merge` command to create a gmsh model of the msh file and then in turn calls the `gmsh_model_to_mesh` function.\n",
    "The `read_from_msh` function also handles MPI communication and gmsh initialization/finalization."
   ]
  },
  {
   "cell_type": "code",
   "execution_count": 6,
   "metadata": {},
   "outputs": [
    {
     "name": "stdout",
     "output_type": "stream",
     "text": [
      "Info    : Reading 'mesh3D.msh'...\n",
      "Info    : 33 entities\n",
      "Info    : 36304 nodes\n",
      "Info    : 213836 elements\n",
      "Info    : Done reading 'mesh3D.msh'                                        \n"
     ]
    },
    {
     "ename": "TypeError",
     "evalue": "create_mesh(): incompatible function arguments. The following argument types are supported:\n    1. (arg0: MPICommWrapper, arg1: dolfinx::graph::AdjacencyList<long>, arg2: dolfinx::fem::CoordinateElement, arg3: numpy.ndarray[numpy.float64], arg4: dolfinx::mesh::GhostMode, arg5: Callable[[MPICommWrapper, int, int, dolfinx::graph::AdjacencyList<long>, dolfinx::mesh::GhostMode], dolfinx::graph::AdjacencyList<int>]) -> dolfinx::mesh::Mesh\n\nInvoked with: <mpi4py.MPI.Intracomm object at 0x7fbbbe92ee50>, array([[11550, 21124, 19393, 31195],\n       [12068, 14770, 19241, 23228],\n       [15693, 16185, 13394, 21504],\n       ...,\n       [17540, 17740, 29284, 20448],\n       [22151, 23265, 22232, 26558],\n       [22151, 22232, 23265, 16900]]), array([[0.5       , 0.41      , 0.25      ],\n       [0.5       , 0.        , 0.25      ],\n       [0.        , 0.        , 0.41      ],\n       ...,\n       [0.42684497, 0.22102659, 0.21149624],\n       [0.55837638, 0.20258508, 0.20912054],\n       [0.45091405, 0.17728979, 0.25000597]]), Mesh(VectorElement(FiniteElement('Lagrange', tetrahedron, 1, variant='equispaced'), dim=3, variant='equispaced'), 1)",
     "output_type": "error",
     "traceback": [
      "\u001b[0;31m---------------------------------------------------------------------------\u001b[0m",
      "\u001b[0;31mTypeError\u001b[0m                                 Traceback (most recent call last)",
      "Input \u001b[0;32mIn [6]\u001b[0m, in \u001b[0;36m<cell line: 5>\u001b[0;34m()\u001b[0m\n\u001b[1;32m      3\u001b[0m gmsh\u001b[38;5;241m.\u001b[39mmodel\u001b[38;5;241m.\u001b[39madd(\u001b[38;5;124m\"\u001b[39m\u001b[38;5;124mMesh from file\u001b[39m\u001b[38;5;124m\"\u001b[39m)\n\u001b[1;32m      4\u001b[0m gmsh\u001b[38;5;241m.\u001b[39mmerge(\u001b[38;5;124m\"\u001b[39m\u001b[38;5;124mmesh3D.msh\u001b[39m\u001b[38;5;124m\"\u001b[39m)\n\u001b[0;32m----> 5\u001b[0m output \u001b[38;5;241m=\u001b[39m \u001b[43mgmsh_model_to_mesh\u001b[49m\u001b[43m(\u001b[49m\u001b[43mgmsh\u001b[49m\u001b[38;5;241;43m.\u001b[39;49m\u001b[43mmodel\u001b[49m\u001b[43m,\u001b[49m\u001b[43m \u001b[49m\u001b[43mcell_data\u001b[49m\u001b[38;5;241;43m=\u001b[39;49m\u001b[38;5;28;43;01mTrue\u001b[39;49;00m\u001b[43m,\u001b[49m\u001b[43m \u001b[49m\u001b[43mfacet_data\u001b[49m\u001b[38;5;241;43m=\u001b[39;49m\u001b[38;5;28;43;01mTrue\u001b[39;49;00m\u001b[43m,\u001b[49m\u001b[43m \u001b[49m\u001b[43mgdim\u001b[49m\u001b[38;5;241;43m=\u001b[39;49m\u001b[38;5;241;43m3\u001b[39;49m\u001b[43m)\u001b[49m\n\u001b[1;32m      6\u001b[0m gmsh\u001b[38;5;241m.\u001b[39mfinalize()\n",
      "File \u001b[0;32m~/gmsh_helpers.py:119\u001b[0m, in \u001b[0;36mgmsh_model_to_mesh\u001b[0;34m(model, cell_data, facet_data, gdim)\u001b[0m\n\u001b[1;32m    117\u001b[0m gmsh_cell_perm \u001b[38;5;241m=\u001b[39m perm_gmsh(to_type(\u001b[38;5;28mstr\u001b[39m(ufl_domain\u001b[38;5;241m.\u001b[39mufl_cell())), num_nodes)\n\u001b[1;32m    118\u001b[0m cells \u001b[38;5;241m=\u001b[39m cells[:, gmsh_cell_perm]\n\u001b[0;32m--> 119\u001b[0m mesh \u001b[38;5;241m=\u001b[39m \u001b[43mcreate_mesh\u001b[49m\u001b[43m(\u001b[49m\u001b[43mMPI\u001b[49m\u001b[38;5;241;43m.\u001b[39;49m\u001b[43mCOMM_WORLD\u001b[49m\u001b[43m,\u001b[49m\u001b[43m \u001b[49m\u001b[43mcells\u001b[49m\u001b[43m,\u001b[49m\u001b[43m \u001b[49m\u001b[43mx\u001b[49m\u001b[43m[\u001b[49m\u001b[43m:\u001b[49m\u001b[43m,\u001b[49m\u001b[43m \u001b[49m\u001b[43m:\u001b[49m\u001b[43mgdim\u001b[49m\u001b[43m]\u001b[49m\u001b[43m,\u001b[49m\u001b[43m \u001b[49m\u001b[43mufl_domain\u001b[49m\u001b[43m)\u001b[49m\n\u001b[1;32m    120\u001b[0m \u001b[38;5;66;03m# Create MeshTags for cells\u001b[39;00m\n\u001b[1;32m    121\u001b[0m \u001b[38;5;28;01mif\u001b[39;00m cell_data:\n",
      "\u001b[0;31mTypeError\u001b[0m: create_mesh(): incompatible function arguments. The following argument types are supported:\n    1. (arg0: MPICommWrapper, arg1: dolfinx::graph::AdjacencyList<long>, arg2: dolfinx::fem::CoordinateElement, arg3: numpy.ndarray[numpy.float64], arg4: dolfinx::mesh::GhostMode, arg5: Callable[[MPICommWrapper, int, int, dolfinx::graph::AdjacencyList<long>, dolfinx::mesh::GhostMode], dolfinx::graph::AdjacencyList<int>]) -> dolfinx::mesh::Mesh\n\nInvoked with: <mpi4py.MPI.Intracomm object at 0x7fbbbe92ee50>, array([[11550, 21124, 19393, 31195],\n       [12068, 14770, 19241, 23228],\n       [15693, 16185, 13394, 21504],\n       ...,\n       [17540, 17740, 29284, 20448],\n       [22151, 23265, 22232, 26558],\n       [22151, 22232, 23265, 16900]]), array([[0.5       , 0.41      , 0.25      ],\n       [0.5       , 0.        , 0.25      ],\n       [0.        , 0.        , 0.41      ],\n       ...,\n       [0.42684497, 0.22102659, 0.21149624],\n       [0.55837638, 0.20258508, 0.20912054],\n       [0.45091405, 0.17728979, 0.25000597]]), Mesh(VectorElement(FiniteElement('Lagrange', tetrahedron, 1, variant='equispaced'), dim=3, variant='equispaced'), 1)"
     ]
    }
   ],
   "source": [
    "gmsh.finalize()\n",
    "gmsh.initialize()\n",
    "gmsh.model.add(\"Mesh from file\")\n",
    "gmsh.merge(\"mesh3D.msh\")\n",
    "output = gmsh_model_to_mesh(gmsh.model, cell_data=True, facet_data=True, gdim=3)\n",
    "gmsh.finalize()"
   ]
  },
  {
   "cell_type": "code",
   "execution_count": null,
   "metadata": {},
   "outputs": [],
   "source": []
  }
 ],
 "metadata": {
  "kernelspec": {
   "display_name": "Python 3 (ipykernel)",
   "language": "python",
   "name": "python3"
  },
  "language_info": {
   "codemirror_mode": {
    "name": "ipython",
    "version": 3
   },
   "file_extension": ".py",
   "mimetype": "text/x-python",
   "name": "python",
   "nbconvert_exporter": "python",
   "pygments_lexer": "ipython3",
   "version": "3.9.7"
  }
 },
 "nbformat": 4,
 "nbformat_minor": 4
}
